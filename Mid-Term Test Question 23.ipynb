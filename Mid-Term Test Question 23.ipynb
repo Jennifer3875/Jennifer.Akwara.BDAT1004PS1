{
 "cells": [
  {
   "cell_type": "markdown",
   "id": "94d18503",
   "metadata": {},
   "source": [
    "# Question 23\n",
    "\n",
    "The first argument represents the indentation of the pattern, where the second argument -- always a pattern of 2 indicates the number *s in the longest line of *s in the pattern"
   ]
  },
  {
   "cell_type": "code",
   "execution_count": 1,
   "id": "b73d3ff8",
   "metadata": {},
   "outputs": [
    {
     "name": "stdout",
     "output_type": "stream",
     "text": [
      "Test case 1:\n",
      "Test case 2:\n",
      "*\n",
      "*\n",
      "Test case 3:\n",
      "**\n",
      "*\n",
      "*\n",
      "**\n",
      "Test case 4:\n",
      "****\n",
      "***\n",
      "**\n",
      "*\n",
      "*\n",
      "**\n",
      "***\n",
      "****\n"
     ]
    }
   ],
   "source": [
    "def tough(indentation, pattern):\n",
    "    if pattern == 0:  # Base case: if pattern is 0, no output\n",
    "        return\n",
    "    \n",
    "    # Printing the current line with the given number of stars and indentation\n",
    "    print(\" \" * indentation + \"*\" * pattern)\n",
    "    \n",
    "    # Recursively call tough() with reduced pattern until pattern becomes 0\n",
    "    tough(indentation, pattern - 1)\n",
    "    \n",
    "    # After the above recursion, print the current line again\n",
    "    print(\" \" * indentation + \"*\" * pattern)\n",
    "\n",
    "# Test cases\n",
    "print(\"Test case 1:\")\n",
    "tough(0, 0)\n",
    "print(\"Test case 2:\")\n",
    "tough(0, 1)\n",
    "print(\"Test case 3:\")\n",
    "tough(0, 2)\n",
    "print(\"Test case 4:\")\n",
    "tough(0, 4)\n"
   ]
  },
  {
   "cell_type": "code",
   "execution_count": null,
   "id": "1df663b1",
   "metadata": {},
   "outputs": [],
   "source": []
  }
 ],
 "metadata": {
  "kernelspec": {
   "display_name": "Python 3 (ipykernel)",
   "language": "python",
   "name": "python3"
  },
  "language_info": {
   "codemirror_mode": {
    "name": "ipython",
    "version": 3
   },
   "file_extension": ".py",
   "mimetype": "text/x-python",
   "name": "python",
   "nbconvert_exporter": "python",
   "pygments_lexer": "ipython3",
   "version": "3.11.5"
  }
 },
 "nbformat": 4,
 "nbformat_minor": 5
}
