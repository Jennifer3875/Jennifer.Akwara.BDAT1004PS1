{
 "cells": [
  {
   "cell_type": "markdown",
   "id": "f01d8d11",
   "metadata": {},
   "source": [
    "# Question 22"
   ]
  },
  {
   "cell_type": "code",
   "execution_count": 1,
   "id": "f242c2a5",
   "metadata": {},
   "outputs": [],
   "source": [
    "%reload_ext sql"
   ]
  },
  {
   "cell_type": "code",
   "execution_count": 2,
   "id": "281c9619",
   "metadata": {},
   "outputs": [
    {
     "name": "stderr",
     "output_type": "stream",
     "text": [
      "UsageError: Line magic function `%sql sqlite://` not found.\n"
     ]
    }
   ],
   "source": [
    "%sql sqlite://"
   ]
  },
  {
   "cell_type": "code",
   "execution_count": 3,
   "id": "63f070f4",
   "metadata": {},
   "outputs": [
    {
     "ename": "OperationalError",
     "evalue": "database is locked",
     "output_type": "error",
     "traceback": [
      "\u001b[1;31m---------------------------------------------------------------------------\u001b[0m",
      "\u001b[1;31mOperationalError\u001b[0m                          Traceback (most recent call last)",
      "Cell \u001b[1;32mIn[3], line 16\u001b[0m\n\u001b[0;32m      8\u001b[0m data \u001b[38;5;241m=\u001b[39m [\n\u001b[0;32m      9\u001b[0m     (\u001b[38;5;241m1\u001b[39m, \u001b[38;5;124m'\u001b[39m\u001b[38;5;124m2015-01-01\u001b[39m\u001b[38;5;124m'\u001b[39m, \u001b[38;5;241m10\u001b[39m),\n\u001b[0;32m     10\u001b[0m     (\u001b[38;5;241m2\u001b[39m, \u001b[38;5;124m'\u001b[39m\u001b[38;5;124m2015-01-02\u001b[39m\u001b[38;5;124m'\u001b[39m, \u001b[38;5;241m25\u001b[39m),\n\u001b[0;32m     11\u001b[0m     (\u001b[38;5;241m3\u001b[39m, \u001b[38;5;124m'\u001b[39m\u001b[38;5;124m2015-01-03\u001b[39m\u001b[38;5;124m'\u001b[39m, \u001b[38;5;241m20\u001b[39m),\n\u001b[0;32m     12\u001b[0m     (\u001b[38;5;241m4\u001b[39m, \u001b[38;5;124m'\u001b[39m\u001b[38;5;124m2015-01-04\u001b[39m\u001b[38;5;124m'\u001b[39m, \u001b[38;5;241m30\u001b[39m)\n\u001b[0;32m     13\u001b[0m ]\n\u001b[0;32m     15\u001b[0m \u001b[38;5;66;03m# Create Weather table and insert data\u001b[39;00m\n\u001b[1;32m---> 16\u001b[0m conn\u001b[38;5;241m.\u001b[39mexecutescript(\u001b[38;5;124m'''\u001b[39m\n\u001b[0;32m     17\u001b[0m \u001b[38;5;124m    CREATE TABLE IF NOT EXISTS Weather (\u001b[39m\n\u001b[0;32m     18\u001b[0m \u001b[38;5;124m        id INTEGER PRIMARY KEY,\u001b[39m\n\u001b[0;32m     19\u001b[0m \u001b[38;5;124m        recordDate DATE,\u001b[39m\n\u001b[0;32m     20\u001b[0m \u001b[38;5;124m        temperature INTEGER\u001b[39m\n\u001b[0;32m     21\u001b[0m \u001b[38;5;124m    );\u001b[39m\n\u001b[0;32m     22\u001b[0m \u001b[38;5;124m    INSERT OR REPLACE INTO Weather VALUES (1, \u001b[39m\u001b[38;5;124m'\u001b[39m\u001b[38;5;124m2015-01-01\u001b[39m\u001b[38;5;124m'\u001b[39m\u001b[38;5;124m, 10);\u001b[39m\n\u001b[0;32m     23\u001b[0m \u001b[38;5;124m    INSERT OR REPLACE INTO Weather VALUES (2, \u001b[39m\u001b[38;5;124m'\u001b[39m\u001b[38;5;124m2015-01-02\u001b[39m\u001b[38;5;124m'\u001b[39m\u001b[38;5;124m, 25);\u001b[39m\n\u001b[0;32m     24\u001b[0m \u001b[38;5;124m    INSERT OR REPLACE INTO Weather VALUES (3, \u001b[39m\u001b[38;5;124m'\u001b[39m\u001b[38;5;124m2015-01-03\u001b[39m\u001b[38;5;124m'\u001b[39m\u001b[38;5;124m, 20);\u001b[39m\n\u001b[0;32m     25\u001b[0m \u001b[38;5;124m    INSERT OR REPLACE INTO Weather VALUES (4, \u001b[39m\u001b[38;5;124m'\u001b[39m\u001b[38;5;124m2015-01-04\u001b[39m\u001b[38;5;124m'\u001b[39m\u001b[38;5;124m, 30);\u001b[39m\n\u001b[0;32m     26\u001b[0m \u001b[38;5;124m'''\u001b[39m)\n\u001b[0;32m     27\u001b[0m conn\u001b[38;5;241m.\u001b[39mcommit()\n\u001b[0;32m     29\u001b[0m \u001b[38;5;66;03m# Define SQL query to find dates' Id with higher temperatures compared to previous dates\u001b[39;00m\n",
      "\u001b[1;31mOperationalError\u001b[0m: database is locked"
     ]
    }
   ],
   "source": [
    "import sqlite3\n",
    "import pandas as pd\n",
    "\n",
    "# Connect to SQLite database\n",
    "conn = sqlite3.connect('weather.db')\n",
    "\n",
    "# Insert data into Weather table if it doesn't exist\n",
    "data = [\n",
    "    (1, '2015-01-01', 10),\n",
    "    (2, '2015-01-02', 25),\n",
    "    (3, '2015-01-03', 20),\n",
    "    (4, '2015-01-04', 30)\n",
    "]\n",
    "\n",
    "# Create Weather table and insert data\n",
    "conn.executescript('''\n",
    "    CREATE TABLE IF NOT EXISTS Weather (\n",
    "        id INTEGER PRIMARY KEY,\n",
    "        recordDate DATE,\n",
    "        temperature INTEGER\n",
    "    );\n",
    "    INSERT OR REPLACE INTO Weather VALUES (1, '2015-01-01', 10);\n",
    "    INSERT OR REPLACE INTO Weather VALUES (2, '2015-01-02', 25);\n",
    "    INSERT OR REPLACE INTO Weather VALUES (3, '2015-01-03', 20);\n",
    "    INSERT OR REPLACE INTO Weather VALUES (4, '2015-01-04', 30);\n",
    "''')\n",
    "conn.commit()\n",
    "\n",
    "# Define SQL query to find dates' Id with higher temperatures compared to previous dates\n",
    "sql_query = '''\n",
    "            SELECT w.id\n",
    "            FROM Weather w\n",
    "            JOIN Weather w_prev ON w_prev.recordDate = DATE(w.recordDate, '-1 day')\n",
    "            WHERE w.temperature > w_prev.temperature\n",
    "            '''\n",
    "\n",
    "# Execute SQL query and fetch result\n",
    "result = pd.read_sql_query(sql_query, conn)\n",
    "\n",
    "# Close database connection\n",
    "conn.close()\n",
    "\n",
    "# Display the result\n",
    "print(result)\n"
   ]
  },
  {
   "cell_type": "code",
   "execution_count": null,
   "id": "f0f2a09d",
   "metadata": {},
   "outputs": [],
   "source": []
  }
 ],
 "metadata": {
  "kernelspec": {
   "display_name": "Python 3 (ipykernel)",
   "language": "python",
   "name": "python3"
  },
  "language_info": {
   "codemirror_mode": {
    "name": "ipython",
    "version": 3
   },
   "file_extension": ".py",
   "mimetype": "text/x-python",
   "name": "python",
   "nbconvert_exporter": "python",
   "pygments_lexer": "ipython3",
   "version": "3.11.5"
  }
 },
 "nbformat": 4,
 "nbformat_minor": 5
}
